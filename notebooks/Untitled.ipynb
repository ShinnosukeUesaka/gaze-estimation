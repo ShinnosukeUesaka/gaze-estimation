{
 "cells": [
  {
   "cell_type": "code",
   "execution_count": 2,
   "id": "81286450-36ec-46bd-be0b-d50eac888890",
   "metadata": {},
   "outputs": [
    {
     "name": "stdout",
     "output_type": "stream",
     "text": [
      "/home/s-uesaka/gaze-estimation-xgaze\n"
     ]
    }
   ],
   "source": [
    "%cd .."
   ]
  },
  {
   "cell_type": "code",
   "execution_count": 10,
   "id": "390c2e0a-1aae-431a-b5da-9e58afa0a1aa",
   "metadata": {},
   "outputs": [
    {
     "name": "stdout",
     "output_type": "stream",
     "text": [
      "\u001b[33mWARNING: Ignoring invalid distribution -rotobuf (/home/s-uesaka/miniconda3/envs/augment_xgaze_new/lib/python3.10/site-packages)\u001b[0m\u001b[33m\n",
      "\u001b[0m\u001b[33mWARNING: Ignoring invalid distribution -rotobuf (/home/s-uesaka/miniconda3/envs/augment_xgaze_new/lib/python3.10/site-packages)\u001b[0m\u001b[33m\n",
      "\u001b[0mCollecting scikit-learn\n",
      "  Downloading scikit_learn-1.2.1-cp310-cp310-manylinux_2_17_x86_64.manylinux2014_x86_64.whl (9.6 MB)\n",
      "\u001b[2K     \u001b[38;2;114;156;31m━━━━━━━━━━━━━━━━━━━━━━━━━━━━━━━━━━━━━━━━\u001b[0m \u001b[32m9.6/9.6 MB\u001b[0m \u001b[31m46.3 MB/s\u001b[0m eta \u001b[36m0:00:00\u001b[0mm eta \u001b[36m0:00:01\u001b[0m0:01\u001b[0m:01\u001b[0m\n",
      "\u001b[?25hRequirement already satisfied: scipy in /home/s-uesaka/miniconda3/envs/augment_xgaze_new/lib/python3.10/site-packages (1.9.3)\n",
      "Collecting scipy\n",
      "  Downloading scipy-1.10.0-cp310-cp310-manylinux_2_17_x86_64.manylinux2014_x86_64.whl (34.4 MB)\n",
      "\u001b[2K     \u001b[38;2;114;156;31m━━━━━━━━━━━━━━━━━━━━━━━━━━━━━━━━━━━━━━━━\u001b[0m \u001b[32m34.4/34.4 MB\u001b[0m \u001b[31m29.9 MB/s\u001b[0m eta \u001b[36m0:00:00\u001b[0mm eta \u001b[36m0:00:01\u001b[0m[36m0:00:01\u001b[0m\n",
      "\u001b[?25hRequirement already satisfied: matplotlib in /home/s-uesaka/miniconda3/envs/augment_xgaze_new/lib/python3.10/site-packages (3.6.2)\n",
      "Collecting matplotlib\n",
      "  Downloading matplotlib-3.7.0-cp310-cp310-manylinux_2_17_x86_64.manylinux2014_x86_64.whl (11.6 MB)\n",
      "\u001b[2K     \u001b[38;2;114;156;31m━━━━━━━━━━━━━━━━━━━━━━━━━━━━━━━━━━━━━━━━\u001b[0m \u001b[32m11.6/11.6 MB\u001b[0m \u001b[31m22.7 MB/s\u001b[0m eta \u001b[36m0:00:00\u001b[0mm eta \u001b[36m0:00:01\u001b[0m36m0:00:01\u001b[0m\n",
      "\u001b[?25hCollecting joblib>=1.1.1\n",
      "  Using cached joblib-1.2.0-py3-none-any.whl (297 kB)\n",
      "Requirement already satisfied: numpy>=1.17.3 in /home/s-uesaka/miniconda3/envs/augment_xgaze_new/lib/python3.10/site-packages (from scikit-learn) (1.23.5)\n",
      "Collecting threadpoolctl>=2.0.0\n",
      "  Using cached threadpoolctl-3.1.0-py3-none-any.whl (14 kB)\n",
      "Requirement already satisfied: fonttools>=4.22.0 in /home/s-uesaka/miniconda3/envs/augment_xgaze_new/lib/python3.10/site-packages (from matplotlib) (4.38.0)\n",
      "Requirement already satisfied: contourpy>=1.0.1 in /home/s-uesaka/miniconda3/envs/augment_xgaze_new/lib/python3.10/site-packages (from matplotlib) (1.0.6)\n",
      "Requirement already satisfied: pillow>=6.2.0 in /home/s-uesaka/miniconda3/envs/augment_xgaze_new/lib/python3.10/site-packages (from matplotlib) (9.3.0)\n",
      "Requirement already satisfied: pyparsing>=2.3.1 in /home/s-uesaka/miniconda3/envs/augment_xgaze_new/lib/python3.10/site-packages (from matplotlib) (3.0.9)\n",
      "Requirement already satisfied: python-dateutil>=2.7 in /home/s-uesaka/miniconda3/envs/augment_xgaze_new/lib/python3.10/site-packages (from matplotlib) (2.8.2)\n",
      "Requirement already satisfied: packaging>=20.0 in /home/s-uesaka/miniconda3/envs/augment_xgaze_new/lib/python3.10/site-packages (from matplotlib) (22.0)\n",
      "Requirement already satisfied: kiwisolver>=1.0.1 in /home/s-uesaka/miniconda3/envs/augment_xgaze_new/lib/python3.10/site-packages (from matplotlib) (1.4.4)\n",
      "Requirement already satisfied: cycler>=0.10 in /home/s-uesaka/miniconda3/envs/augment_xgaze_new/lib/python3.10/site-packages (from matplotlib) (0.11.0)\n",
      "Requirement already satisfied: six>=1.5 in /home/s-uesaka/miniconda3/envs/augment_xgaze_new/lib/python3.10/site-packages (from python-dateutil>=2.7->matplotlib) (1.16.0)\n",
      "\u001b[33mWARNING: Ignoring invalid distribution -rotobuf (/home/s-uesaka/miniconda3/envs/augment_xgaze_new/lib/python3.10/site-packages)\u001b[0m\u001b[33m\n",
      "\u001b[0mInstalling collected packages: threadpoolctl, scipy, joblib, scikit-learn, matplotlib\n",
      "  Attempting uninstall: scipy\n",
      "\u001b[33m    WARNING: Ignoring invalid distribution -rotobuf (/home/s-uesaka/miniconda3/envs/augment_xgaze_new/lib/python3.10/site-packages)\u001b[0m\u001b[33m\n",
      "\u001b[0m    Found existing installation: scipy 1.9.3\n",
      "    Uninstalling scipy-1.9.3:\n",
      "      Successfully uninstalled scipy-1.9.3\n",
      "  Attempting uninstall: matplotlib\n",
      "\u001b[33m    WARNING: Ignoring invalid distribution -rotobuf (/home/s-uesaka/miniconda3/envs/augment_xgaze_new/lib/python3.10/site-packages)\u001b[0m\u001b[33m\n",
      "\u001b[0m    Found existing installation: matplotlib 3.6.2\n",
      "    Uninstalling matplotlib-3.6.2:\n",
      "      Successfully uninstalled matplotlib-3.6.2\n",
      "\u001b[33mWARNING: Ignoring invalid distribution -rotobuf (/home/s-uesaka/miniconda3/envs/augment_xgaze_new/lib/python3.10/site-packages)\u001b[0m\u001b[33m\n",
      "\u001b[0m\u001b[33mWARNING: Ignoring invalid distribution -rotobuf (/home/s-uesaka/miniconda3/envs/augment_xgaze_new/lib/python3.10/site-packages)\u001b[0m\u001b[33m\n",
      "\u001b[0m\u001b[33mWARNING: Ignoring invalid distribution -rotobuf (/home/s-uesaka/miniconda3/envs/augment_xgaze_new/lib/python3.10/site-packages)\u001b[0m\u001b[33m\n",
      "\u001b[0m\u001b[33mWARNING: Ignoring invalid distribution -rotobuf (/home/s-uesaka/miniconda3/envs/augment_xgaze_new/lib/python3.10/site-packages)\u001b[0m\u001b[33m\n",
      "\u001b[0m\u001b[33mWARNING: Ignoring invalid distribution -rotobuf (/home/s-uesaka/miniconda3/envs/augment_xgaze_new/lib/python3.10/site-packages)\u001b[0m\u001b[33m\n",
      "\u001b[0mSuccessfully installed joblib-1.2.0 matplotlib-3.7.0 scikit-learn-1.2.1 scipy-1.10.0 threadpoolctl-3.1.0\n",
      "\u001b[33mWARNING: Ignoring invalid distribution -rotobuf (/home/s-uesaka/miniconda3/envs/augment_xgaze_new/lib/python3.10/site-packages)\u001b[0m\u001b[33m\n",
      "\u001b[0m\u001b[33mWARNING: Ignoring invalid distribution -rotobuf (/home/s-uesaka/miniconda3/envs/augment_xgaze_new/lib/python3.10/site-packages)\u001b[0m\u001b[33m\n",
      "\u001b[0m\u001b[33mWARNING: Ignoring invalid distribution -rotobuf (/home/s-uesaka/miniconda3/envs/augment_xgaze_new/lib/python3.10/site-packages)\u001b[0m\u001b[33m\n",
      "\u001b[0m"
     ]
    }
   ],
   "source": [
    "!pip install -U scikit-learn scipy matplotlib"
   ]
  },
  {
   "cell_type": "code",
   "execution_count": 11,
   "id": "f70813fd-9a7f-4c67-9473-1755c8f17864",
   "metadata": {},
   "outputs": [],
   "source": [
    "import json\n",
    "import os\n",
    "import numpy as np\n",
    "from sklearn.model_selection import StratifiedShuffleSplit\n",
    "\n",
    "\n",
    "with open('config/my_split.json') as f:\n",
    "    data = json.load(f)\n",
    "\n",
    "# combine the train and validation set\n",
    "X = np.array(data['train'] + data['validation'])\n",
    "y = np.array([int(x[7:9]) for x in X])\n",
    "\n",
    "# split the data into 5 different splits\n",
    "sss = StratifiedShuffleSplit(n_splits=5, test_size=0.2, random_state=42)\n",
    "for i, (train_index, test_index) in enumerate(sss.split(X, y)):\n",
    "    split_data = {'train': X[train_index].tolist(), 'validation': X[test_index].tolist()}\n",
    "    with open(f'split_{i+1}.json', 'w') as f:\n",
    "        json.dump(split_data, f)\n"
   ]
  },
  {
   "cell_type": "code",
   "execution_count": 5,
   "id": "d961972f-7ead-4d10-91fd-064a99f3ff83",
   "metadata": {},
   "outputs": [
    {
     "data": {
      "text/plain": [
       "['subject0000.h5',\n",
       " 'subject0003.h5',\n",
       " 'subject0004.h5',\n",
       " 'subject0005.h5',\n",
       " 'subject0006.h5',\n",
       " 'subject0007.h5',\n",
       " 'subject0008.h5',\n",
       " 'subject0009.h5',\n",
       " 'subject0010.h5',\n",
       " 'subject0013.h5',\n",
       " 'subject0014.h5',\n",
       " 'subject0015.h5',\n",
       " 'subject0016.h5',\n",
       " 'subject0018.h5',\n",
       " 'subject0019.h5',\n",
       " 'subject0021.h5',\n",
       " 'subject0024.h5',\n",
       " 'subject0026.h5',\n",
       " 'subject0027.h5',\n",
       " 'subject0028.h5',\n",
       " 'subject0029.h5',\n",
       " 'subject0030.h5',\n",
       " 'subject0031.h5',\n",
       " 'subject0032.h5',\n",
       " 'subject0033.h5',\n",
       " 'subject0035.h5',\n",
       " 'subject0036.h5',\n",
       " 'subject0038.h5',\n",
       " 'subject0039.h5',\n",
       " 'subject0040.h5',\n",
       " 'subject0041.h5',\n",
       " 'subject0043.h5',\n",
       " 'subject0044.h5',\n",
       " 'subject0045.h5',\n",
       " 'subject0046.h5',\n",
       " 'subject0048.h5',\n",
       " 'subject0050.h5',\n",
       " 'subject0051.h5',\n",
       " 'subject0052.h5',\n",
       " 'subject0055.h5',\n",
       " 'subject0056.h5',\n",
       " 'subject0057.h5',\n",
       " 'subject0058.h5',\n",
       " 'subject0059.h5',\n",
       " 'subject0060.h5',\n",
       " 'subject0061.h5',\n",
       " 'subject0062.h5',\n",
       " 'subject0063.h5',\n",
       " 'subject0065.h5',\n",
       " 'subject0066.h5',\n",
       " 'subject0067.h5',\n",
       " 'subject0069.h5',\n",
       " 'subject0072.h5',\n",
       " 'subject0073.h5',\n",
       " 'subject0075.h5',\n",
       " 'subject0076.h5',\n",
       " 'subject0078.h5',\n",
       " 'subject0079.h5',\n",
       " 'subject0080.h5',\n",
       " 'subject0081.h5',\n",
       " 'subject0083.h5',\n",
       " 'subject0084.h5',\n",
       " 'subject0085.h5',\n",
       " 'subject0088.h5',\n",
       " 'subject0090.h5',\n",
       " 'subject0092.h5',\n",
       " 'subject0095.h5',\n",
       " 'subject0098.h5',\n",
       " 'subject0099.h5',\n",
       " 'subject0100.h5',\n",
       " 'subject0101.h5',\n",
       " 'subject0102.h5',\n",
       " 'subject0103.h5',\n",
       " 'subject0104.h5',\n",
       " 'subject0105.h5',\n",
       " 'subject0106.h5',\n",
       " 'subject0107.h5',\n",
       " 'subject0108.h5',\n",
       " 'subject0109.h5',\n",
       " 'subject0111.h5']"
      ]
     },
     "execution_count": 5,
     "metadata": {},
     "output_type": "execute_result"
    }
   ],
   "source": []
  },
  {
   "cell_type": "code",
   "execution_count": null,
   "id": "c899096d-2d5c-411e-9bac-31278c9b2611",
   "metadata": {},
   "outputs": [],
   "source": []
  }
 ],
 "metadata": {
  "kernelspec": {
   "display_name": "Python 3 (ipykernel)",
   "language": "python",
   "name": "python3"
  },
  "language_info": {
   "codemirror_mode": {
    "name": "ipython",
    "version": 3
   },
   "file_extension": ".py",
   "mimetype": "text/x-python",
   "name": "python",
   "nbconvert_exporter": "python",
   "pygments_lexer": "ipython3",
   "version": "3.10.8"
  }
 },
 "nbformat": 4,
 "nbformat_minor": 5
}
